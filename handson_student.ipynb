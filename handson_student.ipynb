{
 "cells": [
  {
   "cell_type": "markdown",
   "id": "f621cedf",
   "metadata": {},
   "source": [
    "This notebook is inspired by \n",
    "https://neuronaldynamics-exercises.readthedocs.io/en/latest/exercises/hopfield-network.html#getting-started\n",
    "\n",
    "\n",
    "neurodynex3 is free software: you can redistribute it and/or modify it under the terms of the GNU General Public License 2.0 as published by the Free Software Foundation. You should have received a copy of the GNU General Public License along with the repository. If not, see http://www.gnu.org/licenses/.\n",
    "\n",
    "Should you reuse and publish the code for your own purposes, please point to the webpage http://neuronaldynamics.epfl.ch or cite the book: Wulfram Gerstner, Werner M. Kistler, Richard Naud, and Liam Paninski. Neuronal Dynamics: From Single Neurons to Networks and Models of Cognition. Cambridge University Press, 2014.\n",
    "\n",
    "\n",
    "Useful functions for this exercise:\n",
    "\n"
   ]
  },
  {
   "cell_type": "code",
   "execution_count": null,
   "id": "ecc2181b",
   "metadata": {},
   "outputs": [],
   "source": [
    "%matplotlib inline\n",
    "import brian2 as b2\n",
    "import matplotlib.pyplot as plt\n",
    "import numpy as np\n",
    "from neurodynex3.hopfield_network import network, pattern_tools, plot_tools"
   ]
  },
  {
   "cell_type": "markdown",
   "id": "7c902b27",
   "metadata": {},
   "source": [
    "Purpose of the exercise is to test the robustness of a Hopfield network encoding for a list of letters.\n",
    "\n",
    "First part:\n",
    "- what is the theoretical capacity of a Hopfield network of $N=100$ units?\n",
    "- Consider a list of letters: ['A', 'B', 'C', 'F', 'X']. Each letter is a memory pattern.\n",
    "  - Store the list\n",
    "  - Show that the patterns equilibirum points\n",
    "  - Show if they are attactors."
   ]
  },
  {
   "cell_type": "code",
   "execution_count": null,
   "id": "bcdded09",
   "metadata": {},
   "outputs": [],
   "source": [
    "# load the alphabet dictionary\n",
    "abc_dictionary =pattern_tools.load_alphabet()\n",
    "\n",
    "# define the letters to be stored in the network\n",
    "letter_list = ['A', 'B', 'C', 'F', 'X']\n",
    "\n",
    "print(\"the letters to be stored in the network are: {}\".format(letter_list))\n",
    "\n",
    "## each pattern has the same shape of (10, 10)\n",
    "pattern_shape = abc_dictionary[letter_list[0]].shape\n",
    "## create an instance of the class HopfieldNetwork with the number of neurons\n",
    "# equal to the number of pixels in the pattern\n",
    "# (10*10 = 100)\n",
    "hopfield_net = network.HopfieldNetwork(nr_neurons = pattern_shape[0]*pattern_shape[1])\n",
    "\n",
    "# # create a list using Pythons List Comprehension syntax:\n",
    "pattern_list = [abc_dictionary[key] for key in letter_list ]\n",
    "plot_tools.plot_pattern_list(pattern_list)\n",
    "\n",
    "# # store the patterns\n",
    "hopfield_net.store_patterns(pattern_list)"
   ]
  },
  {
   "cell_type": "code",
   "execution_count": null,
   "id": "c1c2f9d5",
   "metadata": {},
   "outputs": [],
   "source": [
    "# check if all patterns are equilibrium states: \n",
    "i = 0\n",
    "for pattern in pattern_list:\n",
    "    hopfield_net.set_state_from_pattern(pattern)\n",
    "    states = hopfield_net.run_with_monitoring(nr_steps=10)\n",
    "    states_as_patterns = pattern_tools.reshape_patterns(states, pattern.shape)\n",
    "    plot_tools.plot_state_sequence_and_overlap(\n",
    "        states_as_patterns, pattern_list, reference_idx=i, suptitle=\"Network dynamics for {}\".format(letter_list[i]))\n",
    "    i += 1\n"
   ]
  },
  {
   "cell_type": "code",
   "execution_count": null,
   "id": "38b64b2d",
   "metadata": {},
   "outputs": [],
   "source": [
    "# check if all patterns are attractors states: \n",
    "# start from the same noise in the next run\n",
    "np.random.seed(123)\n",
    "# start from a noisy pattern: \n",
    "i = 0\n",
    "for pattern in pattern_list:\n",
    "    noisy_init_state = pattern_tools.get_noisy_copy(pattern, noise_level=0.2)\n",
    "    hopfield_net.set_state_from_pattern(noisy_init_state)\n",
    "    states = hopfield_net.run_with_monitoring(nr_steps=6)\n",
    "    states_as_patterns = pattern_tools.reshape_patterns(states, pattern.shape)\n",
    "    plot_tools.plot_state_sequence_and_overlap(\n",
    "        states_as_patterns, pattern_list, reference_idx=i, suptitle=\"Network dynamics for {}\".format(letter_list[i]))\n",
    "    i += 1"
   ]
  },
  {
   "cell_type": "code",
   "execution_count": null,
   "id": "0ccdd7fc",
   "metadata": {},
   "outputs": [],
   "source": [
    "# compute similarity between patterns\n",
    "print(\"similarity between patterns:\")\n",
    "for i in range(len(pattern_list)):\n",
    "    print(\"Similarity between {} and others: \".format(letter_list[i]), pattern_tools.compute_overlap_list(pattern_list[i], pattern_list))"
   ]
  },
  {
   "cell_type": "markdown",
   "id": "f525561f",
   "metadata": {},
   "source": [
    "Second part:\n",
    "Consider now two different Hopfield networks. the first one stores ['A', 'B', 'C', 'F', 'E'] and the second ['A', 'B', 'C', 'F', 'Y']. Study pattern completion in these networks by starting from slightly perturbed initial conditions. Which network is more stable? Why? Can you propose a metric to asses robustness?"
   ]
  },
  {
   "cell_type": "markdown",
   "id": "09323e7c",
   "metadata": {},
   "source": [
    "Bonus: \n",
    "Make a guess of how many letters the network can store. Then create a (random) set of letters. Check if all letters of your list are fixed points under the network dynamics. Explain the discrepancy between the theoretical capacity C (computed above) and your observation."
   ]
  }
 ],
 "metadata": {
  "kernelspec": {
   "display_name": ".env_luminy",
   "language": "python",
   "name": "python3"
  },
  "language_info": {
   "codemirror_mode": {
    "name": "ipython",
    "version": 3
   },
   "file_extension": ".py",
   "mimetype": "text/x-python",
   "name": "python",
   "nbconvert_exporter": "python",
   "pygments_lexer": "ipython3",
   "version": "3.9.6"
  }
 },
 "nbformat": 4,
 "nbformat_minor": 5
}
